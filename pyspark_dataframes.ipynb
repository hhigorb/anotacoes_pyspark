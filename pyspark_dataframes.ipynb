{
  "cells": [
    {
      "cell_type": "code",
      "execution_count": 1,
      "metadata": {
        "colab": {
          "base_uri": "https://localhost:8080/"
        },
        "id": "BJkuge4PIjqZ",
        "outputId": "605d8d25-59cc-4a60-8363-c011e9eb41f7"
      },
      "outputs": [
        {
          "name": "stdout",
          "output_type": "stream",
          "text": [
            "Looking in indexes: https://pypi.org/simple, https://us-python.pkg.dev/colab-wheels/public/simple/\n",
            "Collecting pyspark\n",
            "  Downloading pyspark-3.3.2.tar.gz (281.4 MB)\n",
            "\u001b[2K     \u001b[90m━━━━━━━━━━━━━━━━━━━━━━━━━━━━━━━━━━━━━━━\u001b[0m \u001b[32m281.4/281.4 MB\u001b[0m \u001b[31m4.7 MB/s\u001b[0m eta \u001b[36m0:00:00\u001b[0m\n",
            "\u001b[?25h  Preparing metadata (setup.py) ... \u001b[?25l\u001b[?25hdone\n",
            "Collecting py4j==0.10.9.5\n",
            "  Downloading py4j-0.10.9.5-py2.py3-none-any.whl (199 kB)\n",
            "\u001b[2K     \u001b[90m━━━━━━━━━━━━━━━━━━━━━━━━━━━━━━━━━━━━━━\u001b[0m \u001b[32m199.7/199.7 KB\u001b[0m \u001b[31m12.2 MB/s\u001b[0m eta \u001b[36m0:00:00\u001b[0m\n",
            "\u001b[?25hBuilding wheels for collected packages: pyspark\n",
            "  Building wheel for pyspark (setup.py) ... \u001b[?25l\u001b[?25hdone\n",
            "  Created wheel for pyspark: filename=pyspark-3.3.2-py2.py3-none-any.whl size=281824025 sha256=6cf826b7878787b4f1e506e8afebe1ff63fa72402c82347d91b1b34f1bd998bb\n",
            "  Stored in directory: /root/.cache/pip/wheels/6c/e3/9b/0525ce8a69478916513509d43693511463c6468db0de237c86\n",
            "Successfully built pyspark\n",
            "Installing collected packages: py4j, pyspark\n",
            "Successfully installed py4j-0.10.9.5 pyspark-3.3.2\n",
            "Looking in indexes: https://pypi.org/simple, https://us-python.pkg.dev/colab-wheels/public/simple/\n",
            "Collecting findspark\n",
            "  Downloading findspark-2.0.1-py2.py3-none-any.whl (4.4 kB)\n",
            "Installing collected packages: findspark\n",
            "Successfully installed findspark-2.0.1\n"
          ]
        }
      ],
      "source": [
        "!pip3 install pyspark\n",
        "!pip3 install findspark"
      ]
    },
    {
      "cell_type": "code",
      "execution_count": 4,
      "metadata": {
        "id": "hTxGvTIEIpuN"
      },
      "outputs": [],
      "source": [
        "import findspark\n",
        "import pyspark\n",
        "from pyspark.sql import SparkSession\n",
        "from pyspark import SparkContext, SparkConf"
      ]
    },
    {
      "cell_type": "code",
      "execution_count": 6,
      "metadata": {
        "id": "8WucjNL5Iq62"
      },
      "outputs": [],
      "source": [
        "spark = SparkSession.builder.appName('app_spark').getOrCreate()"
      ]
    },
    {
      "cell_type": "markdown",
      "metadata": {
        "id": "fekJwqEQJrl0"
      },
      "source": [
        "### DataFrames"
      ]
    },
    {
      "cell_type": "code",
      "execution_count": 7,
      "metadata": {
        "id": "W0mmj6b1JsmN"
      },
      "outputs": [],
      "source": [
        "df1 = spark.createDataFrame([('Pedro', 10), ('Maria', 15), ('Higor', 22)])\n",
        "df1.show()"
      ]
    },
    {
      "cell_type": "markdown",
      "metadata": {
        "id": "86a_z6QoKv-G"
      },
      "source": [
        "### Criando Schema"
      ]
    },
    {
      "cell_type": "code",
      "execution_count": 13,
      "metadata": {
        "colab": {
          "base_uri": "https://localhost:8080/"
        },
        "id": "KsP1Dk8IKcC6",
        "outputId": "34b662c3-f33e-41f4-ee67-efbfbd4b025f"
      },
      "outputs": [
        {
          "name": "stdout",
          "output_type": "stream",
          "text": [
            "+---+-----+\n",
            "| id| nome|\n",
            "+---+-----+\n",
            "|  1|Pedro|\n",
            "|  2|Maria|\n",
            "+---+-----+\n",
            "\n"
          ]
        }
      ],
      "source": [
        "schema = 'id INT, nome STRING'\n",
        "dados = [[1, 'Pedro'], [2, 'Maria']]\n",
        "\n",
        "df2 = spark.createDataFrame(dados, schema)\n",
        "df2.show()"
      ]
    },
    {
      "cell_type": "markdown",
      "metadata": {
        "id": "cGSlGj5UMAbM"
      },
      "source": [
        "### Utilizando agregações"
      ]
    },
    {
      "cell_type": "code",
      "execution_count": 14,
      "metadata": {
        "id": "9oudggDhKdG1"
      },
      "outputs": [],
      "source": [
        "from pyspark.sql.functions import sum"
      ]
    },
    {
      "cell_type": "code",
      "execution_count": 16,
      "metadata": {
        "colab": {
          "base_uri": "https://localhost:8080/"
        },
        "id": "uv8k5mA0MD21",
        "outputId": "e9b707d5-464a-4e86-e717-625118299ee4"
      },
      "outputs": [
        {
          "name": "stdout",
          "output_type": "stream",
          "text": [
            "+--------+-----------+\n",
            "|produtos|qtd_vendida|\n",
            "+--------+-----------+\n",
            "|  Caneta|         10|\n",
            "|   Lápis|         30|\n",
            "|  Caneta|         30|\n",
            "+--------+-----------+\n",
            "\n"
          ]
        }
      ],
      "source": [
        "schema2 = 'produtos STRING, qtd_vendida INT'\n",
        "vendas = [['Caneta', 10], ['Lápis', 30], ['Caneta', 30]]\n",
        "df3 = spark.createDataFrame(vendas, schema2)\n",
        "df3.show()"
      ]
    },
    {
      "cell_type": "code",
      "execution_count": 20,
      "metadata": {
        "colab": {
          "base_uri": "https://localhost:8080/"
        },
        "id": "KBc0gqoVMaZm",
        "outputId": "8c024644-0d2a-4502-8aac-5e04f73ff39c"
      },
      "outputs": [
        {
          "name": "stdout",
          "output_type": "stream",
          "text": [
            "+--------+----------------+\n",
            "|produtos|sum(qtd_vendida)|\n",
            "+--------+----------------+\n",
            "|  Caneta|              40|\n",
            "|   Lápis|              30|\n",
            "+--------+----------------+\n",
            "\n"
          ]
        }
      ],
      "source": [
        "agrupado = df3.groupBy('produtos').agg(sum('qtd_vendida'))\n",
        "agrupado.show()"
      ]
    },
    {
      "cell_type": "markdown",
      "metadata": {
        "id": "yRxRiACEODFL"
      },
      "source": [
        "### Selecionar colunas"
      ]
    },
    {
      "cell_type": "code",
      "execution_count": 21,
      "metadata": {
        "colab": {
          "base_uri": "https://localhost:8080/"
        },
        "id": "5-wotc_WOEJV",
        "outputId": "0f748f32-8f52-4c38-d30d-ffbceafa45eb"
      },
      "outputs": [
        {
          "name": "stdout",
          "output_type": "stream",
          "text": [
            "+--------+\n",
            "|produtos|\n",
            "+--------+\n",
            "|  Caneta|\n",
            "|   Lápis|\n",
            "|  Caneta|\n",
            "+--------+\n",
            "\n"
          ]
        }
      ],
      "source": [
        "df3.select('produtos').show()"
      ]
    },
    {
      "cell_type": "markdown",
      "metadata": {
        "id": "NUapaCQPOVod"
      },
      "source": [
        "### Criando cálculos (expressões)"
      ]
    },
    {
      "cell_type": "code",
      "execution_count": 22,
      "metadata": {
        "id": "LoWbwCZFOHVd"
      },
      "outputs": [],
      "source": [
        "from pyspark.sql.functions import expr"
      ]
    },
    {
      "cell_type": "code",
      "execution_count": 26,
      "metadata": {
        "colab": {
          "base_uri": "https://localhost:8080/"
        },
        "id": "Fm7cGF_BObk-",
        "outputId": "671fffbe-c31d-4b2d-e785-bedbf9e830a8"
      },
      "outputs": [
        {
          "name": "stdout",
          "output_type": "stream",
          "text": [
            "+--------+-----------+-------------------+\n",
            "|produtos|qtd_vendida|(qtd_vendida * 0.2)|\n",
            "+--------+-----------+-------------------+\n",
            "|  Caneta|         10|                2.0|\n",
            "|   Lápis|         30|                6.0|\n",
            "|  Caneta|         30|                6.0|\n",
            "+--------+-----------+-------------------+\n",
            "\n"
          ]
        }
      ],
      "source": [
        "df3.select('produtos', 'qtd_vendida', expr('qtd_vendida * 0.2')).show()"
      ]
    },
    {
      "cell_type": "markdown",
      "metadata": {
        "id": "yapi1mFlPKHp"
      },
      "source": [
        "### Checar schema e colunas"
      ]
    },
    {
      "cell_type": "code",
      "execution_count": 29,
      "metadata": {
        "colab": {
          "base_uri": "https://localhost:8080/"
        },
        "id": "IgW6FYCdPLvX",
        "outputId": "095d6d39-c18a-4691-c82b-e0eb7e5ea2b9"
      },
      "outputs": [
        {
          "data": {
            "text/plain": [
              "StructType([StructField('produtos', StringType(), True), StructField('qtd_vendida', IntegerType(), True)])"
            ]
          },
          "execution_count": 29,
          "metadata": {},
          "output_type": "execute_result"
        }
      ],
      "source": [
        "df3.schema"
      ]
    },
    {
      "cell_type": "code",
      "execution_count": 30,
      "metadata": {
        "colab": {
          "base_uri": "https://localhost:8080/"
        },
        "id": "AVx8ky-IPMnG",
        "outputId": "ff8d1703-8135-47fe-e653-225b1f8fe11c"
      },
      "outputs": [
        {
          "data": {
            "text/plain": [
              "['produtos', 'qtd_vendida']"
            ]
          },
          "execution_count": 30,
          "metadata": {},
          "output_type": "execute_result"
        }
      ],
      "source": [
        "df3.columns"
      ]
    },
    {
      "cell_type": "markdown",
      "metadata": {
        "id": "l6ZGR-o4Qy-1"
      },
      "source": [
        "### Coletando dados de csv"
      ]
    },
    {
      "cell_type": "code",
      "execution_count": 31,
      "metadata": {
        "id": "82BVxp0RQyqk"
      },
      "outputs": [],
      "source": [
        "from pyspark.sql.types import *"
      ]
    },
    {
      "cell_type": "code",
      "execution_count": 35,
      "metadata": {
        "colab": {
          "base_uri": "https://localhost:8080/"
        },
        "id": "WLXRoXuIQ4Ym",
        "outputId": "940f9a07-7147-4bce-89b5-fe44ffab0d49"
      },
      "outputs": [
        {
          "name": "stdout",
          "output_type": "stream",
          "text": [
            "+---+-------------------+------+-------------+------+----------+\n",
            "| id|               nome|status|       cidade|vendas|      data|\n",
            "+---+-------------------+------+-------------+------+----------+\n",
            "|  2|    Deolinda Vilela| Ativo|Novo Hamburgo|    34|2020-03-05|\n",
            "|  3|   Emídio Dornelles| Ativo| Porto Alegre|    34|2020-02-05|\n",
            "|  4|Felisbela Dornelles| Ativo| Porto Alegre|    36|2020-02-05|\n",
            "|  5|     Graça Ornellas| Ativo| Porto Alegre|    12|2020-02-05|\n",
            "|  6|   Matilde Rebouças| Ativo| Porto Alegre|    22|2019-01-05|\n",
            "|  7|    Noêmia   Orriça| Ativo|  Santa Maria|    45|2019-10-05|\n",
            "|  8|      Roque Vásquez| Ativo| Porto Alegre|    65|2020-03-05|\n",
            "|  9|      Uriel Queiroz| Ativo| Porto Alegre|    54|2018-05-05|\n",
            "| 10|   Viviana Sequeira| Ativo| Porto Alegre|     0|2020-09-05|\n",
            "+---+-------------------+------+-------------+------+----------+\n",
            "\n"
          ]
        }
      ],
      "source": [
        "csv_schema = 'id INT, nome STRING, status STRING, cidade STRING, vendas INT, data STRING'\n",
        "despachantes = spark.read.csv('dados_de_exemplo\\despachantes.csv', header=False, schema=csv_schema)\n",
        "despachantes.show()"
      ]
    },
    {
      "cell_type": "code",
      "execution_count": 39,
      "metadata": {
        "colab": {
          "base_uri": "https://localhost:8080/"
        },
        "id": "ZQzf8RRpSJnW",
        "outputId": "6c6530a1-8196-459f-9852-1342494020d6"
      },
      "outputs": [
        {
          "name": "stdout",
          "output_type": "stream",
          "text": [
            "+---+-------------------+-----+-------------+---+-------------------+\n",
            "|_c0|                _c1|  _c2|          _c3|_c4|                _c5|\n",
            "+---+-------------------+-----+-------------+---+-------------------+\n",
            "|  1|   Carminda Pestana|Ativo|  Santa Maria| 23|2020-08-11 00:00:00|\n",
            "|  2|    Deolinda Vilela|Ativo|Novo Hamburgo| 34|2020-03-05 00:00:00|\n",
            "|  3|   Emídio Dornelles|Ativo| Porto Alegre| 34|2020-02-05 00:00:00|\n",
            "|  4|Felisbela Dornelles|Ativo| Porto Alegre| 36|2020-02-05 00:00:00|\n",
            "|  5|     Graça Ornellas|Ativo| Porto Alegre| 12|2020-02-05 00:00:00|\n",
            "|  6|   Matilde Rebouças|Ativo| Porto Alegre| 22|2019-01-05 00:00:00|\n",
            "|  7|    Noêmia   Orriça|Ativo|  Santa Maria| 45|2019-10-05 00:00:00|\n",
            "|  8|      Roque Vásquez|Ativo| Porto Alegre| 65|2020-03-05 00:00:00|\n",
            "|  9|      Uriel Queiroz|Ativo| Porto Alegre| 54|2018-05-05 00:00:00|\n",
            "| 10|   Viviana Sequeira|Ativo| Porto Alegre|  0|2020-09-05 00:00:00|\n",
            "+---+-------------------+-----+-------------+---+-------------------+\n",
            "\n"
          ]
        }
      ],
      "source": [
        "despachantes_auto_schema = spark.read.load('dados_de_exemplo\\despachantes.csv', header=False, format='csv', sep=',', inferSchema=True)\n",
        "despachantes_auto_schema.show()"
      ]
    },
    {
      "cell_type": "markdown",
      "metadata": {
        "id": "zgltswjNTV8f"
      },
      "source": [
        "### Comparando os schemas"
      ]
    },
    {
      "cell_type": "code",
      "execution_count": 41,
      "metadata": {
        "colab": {
          "base_uri": "https://localhost:8080/"
        },
        "id": "KEICtLWXTYF0",
        "outputId": "9f1d5d7b-8377-4211-ec7b-b74af48dd35d"
      },
      "outputs": [
        {
          "data": {
            "text/plain": [
              "StructType([StructField('id', IntegerType(), True), StructField('nome', StringType(), True), StructField('status', StringType(), True), StructField('cidade', StringType(), True), StructField('vendas', IntegerType(), True), StructField('data', StringType(), True)])"
            ]
          },
          "execution_count": 41,
          "metadata": {},
          "output_type": "execute_result"
        }
      ],
      "source": [
        "despachantes.schema"
      ]
    },
    {
      "cell_type": "code",
      "execution_count": 40,
      "metadata": {
        "colab": {
          "base_uri": "https://localhost:8080/"
        },
        "id": "R9w_hQmnTEXW",
        "outputId": "9b59830a-f5f7-49d9-f5d8-927dc5cf3fbb"
      },
      "outputs": [
        {
          "data": {
            "text/plain": [
              "StructType([StructField('_c0', IntegerType(), True), StructField('_c1', StringType(), True), StructField('_c2', StringType(), True), StructField('_c3', StringType(), True), StructField('_c4', IntegerType(), True), StructField('_c5', TimestampType(), True)])"
            ]
          },
          "execution_count": 40,
          "metadata": {},
          "output_type": "execute_result"
        }
      ],
      "source": [
        "despachantes_auto_schema.schema"
      ]
    }
  ],
  "metadata": {
    "colab": {
      "provenance": []
    },
    "kernelspec": {
      "display_name": "Python 3",
      "name": "python3"
    },
    "language_info": {
      "name": "python"
    }
  },
  "nbformat": 4,
  "nbformat_minor": 0
}
