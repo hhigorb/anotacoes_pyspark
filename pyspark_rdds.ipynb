{
  "nbformat": 4,
  "nbformat_minor": 0,
  "metadata": {
    "colab": {
      "provenance": []
    },
    "kernelspec": {
      "name": "python3",
      "display_name": "Python 3"
    },
    "language_info": {
      "name": "python"
    }
  },
  "cells": [
    {
      "cell_type": "markdown",
      "source": [
        "# Rodar pySpark no Colab:\n",
        "\n",
        "[Iniciando um projeto Spark no Google Colab](https://www.alura.com.br/artigos/iniciando-projeto-spark-no-colab)"
      ],
      "metadata": {
        "id": "jmD0_HPaRGla"
      }
    },
    {
      "cell_type": "markdown",
      "source": [
        "# Documentação PySpark\n",
        "[Documentação](https://spark.apache.org/docs/latest/api/python/reference/pyspark.html)"
      ],
      "metadata": {
        "id": "DQ9I1v8lTqi8"
      }
    },
    {
      "cell_type": "code",
      "source": [
        "!pip3 install pyspark\n",
        "!pip3 install findspark\n",
        "!apt-get install openjdk-8-jdk-headless -qq > /dev/null"
      ],
      "metadata": {
        "id": "lfDNXvOjN7ZT",
        "colab": {
          "base_uri": "https://localhost:8080/"
        },
        "outputId": "9c1d004b-6637-4d87-f0f3-b635a53877bb"
      },
      "execution_count": 9,
      "outputs": [
        {
          "output_type": "stream",
          "name": "stdout",
          "text": [
            "Looking in indexes: https://pypi.org/simple, https://us-python.pkg.dev/colab-wheels/public/simple/\n",
            "Requirement already satisfied: pyspark in /usr/local/lib/python3.9/dist-packages (3.3.2)\n",
            "Requirement already satisfied: py4j==0.10.9.5 in /usr/local/lib/python3.9/dist-packages (from pyspark) (0.10.9.5)\n",
            "Looking in indexes: https://pypi.org/simple, https://us-python.pkg.dev/colab-wheels/public/simple/\n",
            "Collecting findspark\n",
            "  Downloading findspark-2.0.1-py2.py3-none-any.whl (4.4 kB)\n",
            "Installing collected packages: findspark\n",
            "Successfully installed findspark-2.0.1\n"
          ]
        }
      ]
    },
    {
      "cell_type": "code",
      "source": [
        "import findspark\n",
        "import pyspark\n",
        "from pyspark.sql import SparkSession\n",
        "from pyspark import SparkContext, SparkConf"
      ],
      "metadata": {
        "id": "BGYk025GNtvw"
      },
      "execution_count": 1,
      "outputs": []
    },
    {
      "cell_type": "code",
      "source": [
        "# spark = SparkSession.builder \\\n",
        "#     .master('local[*]') \\\n",
        "#     .appName('Iniciando com Spark') \\\n",
        "#     .config('spark.ui.port', '4050') \\\n",
        "#     .getOrCreate()"
      ],
      "metadata": {
        "id": "kni1P8qtRY8z"
      },
      "execution_count": 11,
      "outputs": []
    },
    {
      "cell_type": "code",
      "source": [
        "findspark.init()\n",
        "conf = SparkConf().setAppName(\"app\")\n",
        "sc = SparkContext(conf=conf)"
      ],
      "metadata": {
        "id": "L4ZUjzm0R_CO"
      },
      "execution_count": 2,
      "outputs": []
    },
    {
      "cell_type": "markdown",
      "source": [
        "# RDD"
      ],
      "metadata": {
        "id": "_Ps1PD3QRjoo"
      }
    },
    {
      "cell_type": "code",
      "source": [
        "numeros = sc.parallelize([1, 2, 3, 4, 5, 6, 7, 8, 9, 10])"
      ],
      "metadata": {
        "id": "tx0ZsLs6Rk_3"
      },
      "execution_count": 4,
      "outputs": []
    },
    {
      "cell_type": "markdown",
      "source": [
        "### Mostrar 5 primeiros valores"
      ],
      "metadata": {
        "id": "cCdxNNN9TFoK"
      }
    },
    {
      "cell_type": "code",
      "source": [
        "numeros.take(5)"
      ],
      "metadata": {
        "colab": {
          "base_uri": "https://localhost:8080/"
        },
        "id": "uPvti8-iS4Tc",
        "outputId": "d2edcecb-5229-49d2-e0c5-a3fbe1ab8645"
      },
      "execution_count": 8,
      "outputs": [
        {
          "output_type": "execute_result",
          "data": {
            "text/plain": [
              "[1, 2, 3, 4, 5]"
            ]
          },
          "metadata": {},
          "execution_count": 8
        }
      ]
    },
    {
      "cell_type": "markdown",
      "source": [
        "### Mostrar 5 maiores valores"
      ],
      "metadata": {
        "id": "C_nikUE7TNe0"
      }
    },
    {
      "cell_type": "code",
      "source": [
        "numeros.top(5)"
      ],
      "metadata": {
        "colab": {
          "base_uri": "https://localhost:8080/"
        },
        "id": "9waJoncuS4uf",
        "outputId": "a8056140-a628-4aa5-acfe-d595f8f02eec"
      },
      "execution_count": 9,
      "outputs": [
        {
          "output_type": "execute_result",
          "data": {
            "text/plain": [
              "[10, 9, 8, 7, 6]"
            ]
          },
          "metadata": {},
          "execution_count": 9
        }
      ]
    },
    {
      "cell_type": "markdown",
      "source": [
        "### Quantidade de registros"
      ],
      "metadata": {
        "id": "kuDV4XscT6C2"
      }
    },
    {
      "cell_type": "code",
      "source": [
        "numeros.count()"
      ],
      "metadata": {
        "colab": {
          "base_uri": "https://localhost:8080/"
        },
        "id": "g_MC7usRTMyv",
        "outputId": "4b984b5f-2be9-4dd2-ef23-5a73e82f0cdd"
      },
      "execution_count": 12,
      "outputs": [
        {
          "output_type": "execute_result",
          "data": {
            "text/plain": [
              "10"
            ]
          },
          "metadata": {},
          "execution_count": 12
        }
      ]
    },
    {
      "cell_type": "markdown",
      "source": [
        "### Média dos valores"
      ],
      "metadata": {
        "id": "jvLlCe1fT_99"
      }
    },
    {
      "cell_type": "code",
      "source": [
        "numeros.mean()"
      ],
      "metadata": {
        "colab": {
          "base_uri": "https://localhost:8080/"
        },
        "id": "OiD1GW6iTirH",
        "outputId": "4a6d0efb-a0e2-4e3c-fd98-6c56fab027b0"
      },
      "execution_count": 14,
      "outputs": [
        {
          "output_type": "execute_result",
          "data": {
            "text/plain": [
              "5.5"
            ]
          },
          "metadata": {},
          "execution_count": 14
        }
      ]
    },
    {
      "cell_type": "markdown",
      "source": [
        "### Criando um filtro"
      ],
      "metadata": {
        "id": "KckmPxLbUX8T"
      }
    },
    {
      "cell_type": "code",
      "source": [
        "filtro = numeros.filter(lambda valor: valor > 2)"
      ],
      "metadata": {
        "id": "RTU3CpDyT9Av"
      },
      "execution_count": 15,
      "outputs": []
    },
    {
      "cell_type": "code",
      "source": [
        "filtro.collect()"
      ],
      "metadata": {
        "colab": {
          "base_uri": "https://localhost:8080/"
        },
        "id": "oLaAeL0nUU6T",
        "outputId": "1f77d982-279f-4b46-97c8-d2b65c316568"
      },
      "execution_count": 16,
      "outputs": [
        {
          "output_type": "execute_result",
          "data": {
            "text/plain": [
              "[3, 4, 5, 6, 7, 8, 9, 10]"
            ]
          },
          "metadata": {},
          "execution_count": 16
        }
      ]
    },
    {
      "cell_type": "markdown",
      "source": [
        "### Utilizando o map - Semelhante ao do Python"
      ],
      "metadata": {
        "id": "sD1fBvpnU2hZ"
      }
    },
    {
      "cell_type": "code",
      "source": [
        "multiplicacao = numeros.map(lambda valor: valor * 2)"
      ],
      "metadata": {
        "id": "2XbnSuZEUXEQ"
      },
      "execution_count": 17,
      "outputs": []
    },
    {
      "cell_type": "code",
      "source": [
        "multiplicacao.collect()"
      ],
      "metadata": {
        "colab": {
          "base_uri": "https://localhost:8080/"
        },
        "id": "Ym8DAYLaU8R9",
        "outputId": "7c8c6d81-66b2-4a72-ebf5-ac90c7b67d3a"
      },
      "execution_count": 18,
      "outputs": [
        {
          "output_type": "execute_result",
          "data": {
            "text/plain": [
              "[2, 4, 6, 8, 10, 12, 14, 16, 18, 20]"
            ]
          },
          "metadata": {},
          "execution_count": 18
        }
      ]
    },
    {
      "cell_type": "markdown",
      "source": [
        "### União de RDDs"
      ],
      "metadata": {
        "id": "qgl4UboYVLnF"
      }
    },
    {
      "cell_type": "code",
      "source": [
        "numeros2 = sc.parallelize([11, 12, 13, 14, 15])\n",
        "uniao = numeros.union(numeros2)\n",
        "uniao.collect()"
      ],
      "metadata": {
        "colab": {
          "base_uri": "https://localhost:8080/"
        },
        "id": "rirrkmpSVNqv",
        "outputId": "83767959-2a1c-4037-bc9c-82ef1ef53f84"
      },
      "execution_count": 19,
      "outputs": [
        {
          "output_type": "execute_result",
          "data": {
            "text/plain": [
              "[1, 2, 3, 4, 5, 6, 7, 8, 9, 10, 11, 12, 13, 14, 15]"
            ]
          },
          "metadata": {},
          "execution_count": 19
        }
      ]
    },
    {
      "cell_type": "code",
      "source": [],
      "metadata": {
        "id": "65mPUie4VWEH"
      },
      "execution_count": null,
      "outputs": []
    }
  ]
}