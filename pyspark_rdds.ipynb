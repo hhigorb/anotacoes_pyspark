{
  "nbformat": 4,
  "nbformat_minor": 0,
  "metadata": {
    "colab": {
      "provenance": []
    },
    "kernelspec": {
      "name": "python3",
      "display_name": "Python 3"
    },
    "language_info": {
      "name": "python"
    }
  },
  "cells": [
    {
      "cell_type": "markdown",
      "source": [
        "# Rodar pySpark no Colab:\n",
        "\n",
        "[Iniciando um projeto Spark no Google Colab](https://www.alura.com.br/artigos/iniciando-projeto-spark-no-colab)"
      ],
      "metadata": {
        "id": "jmD0_HPaRGla"
      }
    },
    {
      "cell_type": "markdown",
      "source": [
        "# Documentação PySpark\n",
        "[Documentação](https://spark.apache.org/docs/latest/api/python/reference/pyspark.html)"
      ],
      "metadata": {
        "id": "DQ9I1v8lTqi8"
      }
    },
    {
      "cell_type": "code",
      "source": [
        "!pip3 install pyspark\n",
        "!pip3 install findspark\n",
        "!apt-get install openjdk-8-jdk-headless -qq > /dev/null"
      ],
      "metadata": {
        "id": "lfDNXvOjN7ZT",
        "colab": {
          "base_uri": "https://localhost:8080/"
        },
        "outputId": "8d48053c-b2c8-4cd1-b277-5023094af957"
      },
      "execution_count": 1,
      "outputs": [
        {
          "output_type": "stream",
          "name": "stdout",
          "text": [
            "Looking in indexes: https://pypi.org/simple, https://us-python.pkg.dev/colab-wheels/public/simple/\n",
            "Collecting pyspark\n",
            "  Downloading pyspark-3.3.2.tar.gz (281.4 MB)\n",
            "\u001b[2K     \u001b[90m━━━━━━━━━━━━━━━━━━━━━━━━━━━━━━━━━━━━━━━\u001b[0m \u001b[32m281.4/281.4 MB\u001b[0m \u001b[31m3.9 MB/s\u001b[0m eta \u001b[36m0:00:00\u001b[0m\n",
            "\u001b[?25h  Preparing metadata (setup.py) ... \u001b[?25l\u001b[?25hdone\n",
            "Collecting py4j==0.10.9.5\n",
            "  Downloading py4j-0.10.9.5-py2.py3-none-any.whl (199 kB)\n",
            "\u001b[2K     \u001b[90m━━━━━━━━━━━━━━━━━━━━━━━━━━━━━━━━━━━━━━\u001b[0m \u001b[32m199.7/199.7 KB\u001b[0m \u001b[31m18.6 MB/s\u001b[0m eta \u001b[36m0:00:00\u001b[0m\n",
            "\u001b[?25hBuilding wheels for collected packages: pyspark\n",
            "  Building wheel for pyspark (setup.py) ... \u001b[?25l\u001b[?25hdone\n",
            "  Created wheel for pyspark: filename=pyspark-3.3.2-py2.py3-none-any.whl size=281824025 sha256=8fa55d90a8e094a486141092f3a040ad11ebd5fa374494e8aeaadebbd6b034b2\n",
            "  Stored in directory: /root/.cache/pip/wheels/6c/e3/9b/0525ce8a69478916513509d43693511463c6468db0de237c86\n",
            "Successfully built pyspark\n",
            "Installing collected packages: py4j, pyspark\n",
            "Successfully installed py4j-0.10.9.5 pyspark-3.3.2\n",
            "Looking in indexes: https://pypi.org/simple, https://us-python.pkg.dev/colab-wheels/public/simple/\n",
            "Collecting findspark\n",
            "  Downloading findspark-2.0.1-py2.py3-none-any.whl (4.4 kB)\n",
            "Installing collected packages: findspark\n",
            "Successfully installed findspark-2.0.1\n"
          ]
        }
      ]
    },
    {
      "cell_type": "code",
      "source": [
        "import findspark\n",
        "import pyspark\n",
        "from pyspark.sql import SparkSession\n",
        "from pyspark import SparkContext, SparkConf"
      ],
      "metadata": {
        "id": "BGYk025GNtvw"
      },
      "execution_count": 2,
      "outputs": []
    },
    {
      "cell_type": "code",
      "source": [
        "# spark = SparkSession.builder \\\n",
        "#     .master('local[*]') \\\n",
        "#     .appName('Iniciando com Spark') \\\n",
        "#     .config('spark.ui.port', '4050') \\\n",
        "#     .getOrCreate()"
      ],
      "metadata": {
        "id": "kni1P8qtRY8z"
      },
      "execution_count": null,
      "outputs": []
    },
    {
      "cell_type": "code",
      "source": [
        "findspark.init()\n",
        "conf = SparkConf().setAppName(\"app\")\n",
        "sc = SparkContext(conf=conf)"
      ],
      "metadata": {
        "id": "L4ZUjzm0R_CO"
      },
      "execution_count": 3,
      "outputs": []
    },
    {
      "cell_type": "markdown",
      "source": [
        "# RDD"
      ],
      "metadata": {
        "id": "_Ps1PD3QRjoo"
      }
    },
    {
      "cell_type": "code",
      "source": [
        "numeros = sc.parallelize([1, 2, 3, 4, 5, 6, 7, 8, 9, 10])"
      ],
      "metadata": {
        "id": "tx0ZsLs6Rk_3"
      },
      "execution_count": null,
      "outputs": []
    },
    {
      "cell_type": "markdown",
      "source": [
        "### Mostrar 5 primeiros valores"
      ],
      "metadata": {
        "id": "cCdxNNN9TFoK"
      }
    },
    {
      "cell_type": "code",
      "source": [
        "numeros.take(5)"
      ],
      "metadata": {
        "colab": {
          "base_uri": "https://localhost:8080/"
        },
        "id": "uPvti8-iS4Tc",
        "outputId": "d2edcecb-5229-49d2-e0c5-a3fbe1ab8645"
      },
      "execution_count": null,
      "outputs": [
        {
          "output_type": "execute_result",
          "data": {
            "text/plain": [
              "[1, 2, 3, 4, 5]"
            ]
          },
          "metadata": {},
          "execution_count": 8
        }
      ]
    },
    {
      "cell_type": "markdown",
      "source": [
        "### Mostrar 5 maiores valores"
      ],
      "metadata": {
        "id": "C_nikUE7TNe0"
      }
    },
    {
      "cell_type": "code",
      "source": [
        "numeros.top(5)"
      ],
      "metadata": {
        "colab": {
          "base_uri": "https://localhost:8080/"
        },
        "id": "9waJoncuS4uf",
        "outputId": "a8056140-a628-4aa5-acfe-d595f8f02eec"
      },
      "execution_count": null,
      "outputs": [
        {
          "output_type": "execute_result",
          "data": {
            "text/plain": [
              "[10, 9, 8, 7, 6]"
            ]
          },
          "metadata": {},
          "execution_count": 9
        }
      ]
    },
    {
      "cell_type": "markdown",
      "source": [
        "### Quantidade de registros"
      ],
      "metadata": {
        "id": "kuDV4XscT6C2"
      }
    },
    {
      "cell_type": "code",
      "source": [
        "numeros.count()"
      ],
      "metadata": {
        "colab": {
          "base_uri": "https://localhost:8080/"
        },
        "id": "g_MC7usRTMyv",
        "outputId": "4b984b5f-2be9-4dd2-ef23-5a73e82f0cdd"
      },
      "execution_count": null,
      "outputs": [
        {
          "output_type": "execute_result",
          "data": {
            "text/plain": [
              "10"
            ]
          },
          "metadata": {},
          "execution_count": 12
        }
      ]
    },
    {
      "cell_type": "markdown",
      "source": [
        "### Média dos valores"
      ],
      "metadata": {
        "id": "jvLlCe1fT_99"
      }
    },
    {
      "cell_type": "code",
      "source": [
        "numeros.mean()"
      ],
      "metadata": {
        "colab": {
          "base_uri": "https://localhost:8080/"
        },
        "id": "OiD1GW6iTirH",
        "outputId": "4a6d0efb-a0e2-4e3c-fd98-6c56fab027b0"
      },
      "execution_count": null,
      "outputs": [
        {
          "output_type": "execute_result",
          "data": {
            "text/plain": [
              "5.5"
            ]
          },
          "metadata": {},
          "execution_count": 14
        }
      ]
    },
    {
      "cell_type": "markdown",
      "source": [
        "### Criando um filtro"
      ],
      "metadata": {
        "id": "KckmPxLbUX8T"
      }
    },
    {
      "cell_type": "code",
      "source": [
        "filtro = numeros.filter(lambda valor: valor > 2)"
      ],
      "metadata": {
        "id": "RTU3CpDyT9Av"
      },
      "execution_count": null,
      "outputs": []
    },
    {
      "cell_type": "code",
      "source": [
        "filtro.collect()"
      ],
      "metadata": {
        "colab": {
          "base_uri": "https://localhost:8080/"
        },
        "id": "oLaAeL0nUU6T",
        "outputId": "1f77d982-279f-4b46-97c8-d2b65c316568"
      },
      "execution_count": null,
      "outputs": [
        {
          "output_type": "execute_result",
          "data": {
            "text/plain": [
              "[3, 4, 5, 6, 7, 8, 9, 10]"
            ]
          },
          "metadata": {},
          "execution_count": 16
        }
      ]
    },
    {
      "cell_type": "markdown",
      "source": [
        "### Utilizando o map - Semelhante ao do Python"
      ],
      "metadata": {
        "id": "sD1fBvpnU2hZ"
      }
    },
    {
      "cell_type": "code",
      "source": [
        "multiplicacao = numeros.map(lambda valor: valor * 2)"
      ],
      "metadata": {
        "id": "2XbnSuZEUXEQ"
      },
      "execution_count": null,
      "outputs": []
    },
    {
      "cell_type": "code",
      "source": [
        "multiplicacao.collect()"
      ],
      "metadata": {
        "colab": {
          "base_uri": "https://localhost:8080/"
        },
        "id": "Ym8DAYLaU8R9",
        "outputId": "7c8c6d81-66b2-4a72-ebf5-ac90c7b67d3a"
      },
      "execution_count": null,
      "outputs": [
        {
          "output_type": "execute_result",
          "data": {
            "text/plain": [
              "[2, 4, 6, 8, 10, 12, 14, 16, 18, 20]"
            ]
          },
          "metadata": {},
          "execution_count": 18
        }
      ]
    },
    {
      "cell_type": "markdown",
      "source": [
        "### União de RDDs"
      ],
      "metadata": {
        "id": "qgl4UboYVLnF"
      }
    },
    {
      "cell_type": "code",
      "source": [
        "numeros2 = sc.parallelize([11, 12, 13, 14, 15])\n",
        "uniao = numeros.union(numeros2)\n",
        "uniao.collect()"
      ],
      "metadata": {
        "colab": {
          "base_uri": "https://localhost:8080/"
        },
        "id": "rirrkmpSVNqv",
        "outputId": "83767959-2a1c-4037-bc9c-82ef1ef53f84"
      },
      "execution_count": null,
      "outputs": [
        {
          "output_type": "execute_result",
          "data": {
            "text/plain": [
              "[1, 2, 3, 4, 5, 6, 7, 8, 9, 10, 11, 12, 13, 14, 15]"
            ]
          },
          "metadata": {},
          "execution_count": 19
        }
      ]
    },
    {
      "cell_type": "markdown",
      "source": [
        "### Pegando as chaves dos valores"
      ],
      "metadata": {
        "id": "gf7oASgx1k0t"
      }
    },
    {
      "cell_type": "code",
      "source": [
        "id_cliente_valor_compra = sc.parallelize([('cliente1', 200), ('cliente2', 300), ('cliente3', 120), ('cliente4', 250), ('cliente5', 78)])\n",
        "id_cliente = id_cliente_valor_compra.keys()\n",
        "id_cliente.collect()"
      ],
      "metadata": {
        "id": "65mPUie4VWEH",
        "colab": {
          "base_uri": "https://localhost:8080/"
        },
        "outputId": "fb4a26ea-5e68-4cb1-a201-0bb68d025371"
      },
      "execution_count": 12,
      "outputs": [
        {
          "output_type": "execute_result",
          "data": {
            "text/plain": [
              "['cliente1', 'cliente2', 'cliente3', 'cliente4', 'cliente5']"
            ]
          },
          "metadata": {},
          "execution_count": 12
        }
      ]
    },
    {
      "cell_type": "markdown",
      "source": [
        "### Pegando os valores da tupla"
      ],
      "metadata": {
        "id": "_OvXf5WL1nWb"
      }
    },
    {
      "cell_type": "code",
      "source": [
        "valor_compra = id_cliente_valor_compra.values()\n",
        "valor_compra.collect()"
      ],
      "metadata": {
        "colab": {
          "base_uri": "https://localhost:8080/"
        },
        "id": "DgYEXi-11dmu",
        "outputId": "0b6d7f3f-2663-4afe-d39c-d67319fe1501"
      },
      "execution_count": 10,
      "outputs": [
        {
          "output_type": "execute_result",
          "data": {
            "text/plain": [
              "[200, 300, 120, 250, 78]"
            ]
          },
          "metadata": {},
          "execution_count": 10
        }
      ]
    },
    {
      "cell_type": "markdown",
      "source": [
        "# Quantidade de valores por chave"
      ],
      "metadata": {
        "id": "hVup_z5A1yAb"
      }
    },
    {
      "cell_type": "code",
      "source": [
        "id_cliente_valor_compra.countByKey()"
      ],
      "metadata": {
        "colab": {
          "base_uri": "https://localhost:8080/"
        },
        "id": "fdXqQPYV1vpb",
        "outputId": "a63857d7-6a08-43b7-90a4-038668a18987"
      },
      "execution_count": 13,
      "outputs": [
        {
          "output_type": "execute_result",
          "data": {
            "text/plain": [
              "defaultdict(int,\n",
              "            {'cliente1': 1,\n",
              "             'cliente2': 1,\n",
              "             'cliente3': 1,\n",
              "             'cliente4': 1,\n",
              "             'cliente5': 1})"
            ]
          },
          "metadata": {},
          "execution_count": 13
        }
      ]
    },
    {
      "cell_type": "markdown",
      "source": [
        "### Realizando operações com os valores"
      ],
      "metadata": {
        "id": "TXvJkQzc17jN"
      }
    },
    {
      "cell_type": "code",
      "source": [
        "soma = id_cliente_valor_compra.mapValues(lambda valor: valor * 2)\n",
        "soma.collect()"
      ],
      "metadata": {
        "colab": {
          "base_uri": "https://localhost:8080/"
        },
        "id": "mgp5NL_-12U7",
        "outputId": "3d1a4009-55bb-4f81-b063-fa66456f4102"
      },
      "execution_count": 14,
      "outputs": [
        {
          "output_type": "execute_result",
          "data": {
            "text/plain": [
              "[('cliente1', 400),\n",
              " ('cliente2', 600),\n",
              " ('cliente3', 240),\n",
              " ('cliente4', 500),\n",
              " ('cliente5', 156)]"
            ]
          },
          "metadata": {},
          "execution_count": 14
        }
      ]
    },
    {
      "cell_type": "markdown",
      "source": [
        "### Realizando joins"
      ],
      "metadata": {
        "id": "u_EVviia2YFF"
      }
    },
    {
      "cell_type": "code",
      "source": [
        "qtd_paga_por_cliente = sc.parallelize([('cliente2', 55), ('cliente4', 400)])"
      ],
      "metadata": {
        "id": "n0LzDegX2B6T"
      },
      "execution_count": 16,
      "outputs": []
    },
    {
      "cell_type": "code",
      "source": [
        "resultado = id_cliente_valor_compra.join(qtd_paga_por_cliente)\n",
        "resultado.collect()"
      ],
      "metadata": {
        "colab": {
          "base_uri": "https://localhost:8080/"
        },
        "id": "9na8As7H3KgX",
        "outputId": "12773335-7d19-479a-d0c4-068b7a696930"
      },
      "execution_count": 18,
      "outputs": [
        {
          "output_type": "execute_result",
          "data": {
            "text/plain": [
              "[('cliente2', (300, 55)), ('cliente4', (250, 400))]"
            ]
          },
          "metadata": {},
          "execution_count": 18
        }
      ]
    },
    {
      "cell_type": "code",
      "source": [
        "sem_debito = id_cliente_valor_compra.subtractByKey(qtd_paga_por_cliente)\n",
        "sem_debito.collect()"
      ],
      "metadata": {
        "colab": {
          "base_uri": "https://localhost:8080/"
        },
        "id": "RJlaqw683RYL",
        "outputId": "60cd2a52-95fa-4d60-a3bc-fa5e64d32ca7"
      },
      "execution_count": 19,
      "outputs": [
        {
          "output_type": "execute_result",
          "data": {
            "text/plain": [
              "[('cliente5', 78), ('cliente1', 200), ('cliente3', 120)]"
            ]
          },
          "metadata": {},
          "execution_count": 19
        }
      ]
    }
  ]
}